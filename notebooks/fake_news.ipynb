{
 "cells": [
  {
   "cell_type": "code",
   "execution_count": 40,
   "metadata": {},
   "outputs": [],
   "source": [
    "import pandas as pd\n",
    "import numpy as np\n",
    "from nltk.tokenize import word_tokenize\n",
    "from tensorflow import keras\n",
    "from nltk.stem.snowball import RomanianStemmer\n",
    "from unidecode import unidecode\n",
    "import sklearn.metrics as metrics"
   ]
  },
  {
   "cell_type": "code",
   "execution_count": 9,
   "metadata": {},
   "outputs": [],
   "source": [
    "SENT_SIZE = 100\n",
    "CHAR_FEAT_SIZE = 10\n",
    "UNKNOWN_WORD = '<UNKNOWN_WORD>'\n",
    "PADDING_WORD = '<PADDING_WORD>'"
   ]
  },
  {
   "cell_type": "code",
   "execution_count": 2,
   "metadata": {},
   "outputs": [
    {
     "data": {
      "text/html": [
       "<div>\n",
       "<style scoped>\n",
       "    .dataframe tbody tr th:only-of-type {\n",
       "        vertical-align: middle;\n",
       "    }\n",
       "\n",
       "    .dataframe tbody tr th {\n",
       "        vertical-align: top;\n",
       "    }\n",
       "\n",
       "    .dataframe thead th {\n",
       "        text-align: right;\n",
       "    }\n",
       "</style>\n",
       "<table border=\"1\" class=\"dataframe\">\n",
       "  <thead>\n",
       "    <tr style=\"text-align: right;\">\n",
       "      <th></th>\n",
       "      <th>source</th>\n",
       "      <th>title</th>\n",
       "      <th>text</th>\n",
       "      <th>url</th>\n",
       "    </tr>\n",
       "  </thead>\n",
       "  <tbody>\n",
       "    <tr>\n",
       "      <th>0</th>\n",
       "      <td>evz.ro</td>\n",
       "      <td>Ministrul spulberă informațiile despre pensii....</td>\n",
       "      <td>Ministrul Muncii Violeta Alexandru a declarat ...</td>\n",
       "      <td>https://evz.ro/bomba-despre-pensii-ministrul-s...</td>\n",
       "    </tr>\n",
       "    <tr>\n",
       "      <th>1</th>\n",
       "      <td>adevarul.ro</td>\n",
       "      <td>G4Media: Klaus Iohannis i-a cerut premierului ...</td>\n",
       "      <td>Preşedintele Klaus Iohannis i-a cerut, vineri,...</td>\n",
       "      <td>https://adevarul.ro/news/politica/g4media-klau...</td>\n",
       "    </tr>\n",
       "    <tr>\n",
       "      <th>2</th>\n",
       "      <td>puterea.ro</td>\n",
       "      <td>ULTIMA ORĂ: Medicul Mircea Beuran a fost REȚIN...</td>\n",
       "      <td>Medicul Mircea Beuran a fost reținut pentru 24...</td>\n",
       "      <td>https://www.puterea.ro/eveniment/ultima-ora-me...</td>\n",
       "    </tr>\n",
       "    <tr>\n",
       "      <th>3</th>\n",
       "      <td>agerpres.ro</td>\n",
       "      <td>Iohannis, în Israel: România - angajată să con...</td>\n",
       "      <td>\\r\\nTrimisul special al AGERPRES, Florentina P...</td>\n",
       "      <td>https://www.agerpres.ro/politica/2020/01/21/io...</td>\n",
       "    </tr>\n",
       "    <tr>\n",
       "      <th>4</th>\n",
       "      <td>news.ro</td>\n",
       "      <td>Avertizări cod galben şi cod portocaliu de plo...</td>\n",
       "      <td>Meteorologii au emis saâmbătă seară avertizări...</td>\n",
       "      <td>https://www.news.ro/social/avertizari-cod-galb...</td>\n",
       "    </tr>\n",
       "  </tbody>\n",
       "</table>\n",
       "</div>"
      ],
      "text/plain": [
       "        source                                              title  \\\n",
       "0       evz.ro  Ministrul spulberă informațiile despre pensii....   \n",
       "1  adevarul.ro  G4Media: Klaus Iohannis i-a cerut premierului ...   \n",
       "2   puterea.ro  ULTIMA ORĂ: Medicul Mircea Beuran a fost REȚIN...   \n",
       "3  agerpres.ro  Iohannis, în Israel: România - angajată să con...   \n",
       "4      news.ro  Avertizări cod galben şi cod portocaliu de plo...   \n",
       "\n",
       "                                                text  \\\n",
       "0  Ministrul Muncii Violeta Alexandru a declarat ...   \n",
       "1  Preşedintele Klaus Iohannis i-a cerut, vineri,...   \n",
       "2  Medicul Mircea Beuran a fost reținut pentru 24...   \n",
       "3  \\r\\nTrimisul special al AGERPRES, Florentina P...   \n",
       "4  Meteorologii au emis saâmbătă seară avertizări...   \n",
       "\n",
       "                                                 url  \n",
       "0  https://evz.ro/bomba-despre-pensii-ministrul-s...  \n",
       "1  https://adevarul.ro/news/politica/g4media-klau...  \n",
       "2  https://www.puterea.ro/eveniment/ultima-ora-me...  \n",
       "3  https://www.agerpres.ro/politica/2020/01/21/io...  \n",
       "4  https://www.news.ro/social/avertizari-cod-galb...  "
      ]
     },
     "execution_count": 2,
     "metadata": {},
     "output_type": "execute_result"
    }
   ],
   "source": [
    "df = pd.read_csv(\"../data/ro_news.csv\")\n",
    "df.head()"
   ]
  },
  {
   "cell_type": "code",
   "execution_count": 3,
   "metadata": {},
   "outputs": [],
   "source": [
    "df['y'] = df['source'].apply(lambda x: x in ('puterea.ro', 'b1.ro')).astype(int)"
   ]
  },
  {
   "cell_type": "code",
   "execution_count": 4,
   "metadata": {},
   "outputs": [],
   "source": [
    "def clean(txt):\n",
    "    tokens = word_tokenize(txt)\n",
    "    stemmer = RomanianStemmer()\n",
    "    # remove all tokens that are not alpha\n",
    "    words = [stemmer.stem(unidecode(word.lower())) for word in tokens if word.isalpha()]\n",
    "    return words"
   ]
  },
  {
   "cell_type": "code",
   "execution_count": 5,
   "metadata": {},
   "outputs": [
    {
     "name": "stdout",
     "output_type": "stream",
     "text": [
      "Wall time: 4min 10s\n"
     ]
    }
   ],
   "source": [
    "%%time\n",
    "df['title_clean'] = df['title'].apply(clean)\n",
    "df['text_clean'] = df['text'].apply(clean)"
   ]
  },
  {
   "cell_type": "code",
   "execution_count": 20,
   "metadata": {},
   "outputs": [],
   "source": [
    "#WORD FEAT MODEL HELPERS\n",
    "def get_word2idx(X):\n",
    "    words = set()\n",
    "    word2idx = {}\n",
    "    \n",
    "    words.add(UNKNOWN_WORD)\n",
    "    words.add(PADDING_WORD)\n",
    "\n",
    "    for sent in X:\n",
    "        for word in sent:\n",
    "            words.add(word)\n",
    "    words = sorted(list(words))\n",
    "\n",
    "    word2idx = { w : i for i, w in enumerate(words) }\n",
    "    return word2idx\n",
    "\n",
    "def sentence2idxs(sentence, word2idx):\n",
    "    sentence_idxs = list(map(lambda w: word2idx.get(w, word2idx[UNKNOWN_WORD]), sentence))\n",
    "    return sentence_idxs\n",
    "\n",
    "def convert_data(X, word2idx, sent_size=SENT_SIZE):\n",
    "    X = list(map(lambda s: sentence2idxs(s, word2idx), X))\n",
    "    X = keras.preprocessing.sequence.pad_sequences(maxlen=sent_size, sequences=X,\n",
    "     padding=\"post\", value=word2idx[PADDING_WORD])\n",
    "\n",
    "    return X\n"
   ]
  },
  {
   "cell_type": "code",
   "execution_count": 16,
   "metadata": {},
   "outputs": [
    {
     "name": "stdout",
     "output_type": "stream",
     "text": [
      "Wall time: 538 ms\n"
     ]
    }
   ],
   "source": [
    "%%time\n",
    "title_word2idx = get_word2idx(df['title_clean'])\n",
    "text_word2idx = get_word2idx(df['text_clean'])"
   ]
  },
  {
   "cell_type": "code",
   "execution_count": 42,
   "metadata": {},
   "outputs": [],
   "source": [
    "X_title_w = convert_data(df['title_clean'], title_word2idx)\n",
    "X_text_w = convert_data(df['text_clean'], text_word2idx)"
   ]
  },
  {
   "cell_type": "code",
   "execution_count": 43,
   "metadata": {},
   "outputs": [],
   "source": [
    "def word_feat_model(title_word2idx, text_word2idx, sent_size=SENT_SIZE, emb_out_dim=50, n_lstm_units=100):\n",
    "    # TITLE INPUT\n",
    "    title_input = keras.layers.Input(shape=(sent_size,))\n",
    "    title_char_emb = keras.layers.Embedding(input_dim=len(title_word2idx),\n",
    "        output_dim=emb_out_dim)(title_input)  \n",
    "    \n",
    "    # TEXT INPUT\n",
    "    text_input = keras.layers.Input(shape=(sent_size,))\n",
    "    text_char_emb = keras.layers.Embedding(input_dim=len(text_word2idx),\n",
    "        output_dim=emb_out_dim)(title_input)\n",
    "\n",
    "    all_feat = keras.layers.concatenate([title_char_emb, text_char_emb])\n",
    "\n",
    "    bi_lstm = keras.layers.Bidirectional(keras.layers.LSTM(units=n_lstm_units,\n",
    "            return_sequences=False))(all_feat)\n",
    "\n",
    "    out = keras.layers.Dense(1, activation=\"sigmoid\")(bi_lstm)\n",
    "\n",
    "    model = keras.models.Model([title_input], out)\n",
    "    model.compile(optimizer='adam', loss=keras.losses.binary_crossentropy, metrics=['acc'])\n",
    "\n",
    "    return model"
   ]
  },
  {
   "cell_type": "code",
   "execution_count": 38,
   "metadata": {},
   "outputs": [],
   "source": [
    "y = df['y'].values"
   ]
  },
  {
   "cell_type": "code",
   "execution_count": 44,
   "metadata": {},
   "outputs": [
    {
     "name": "stdout",
     "output_type": "stream",
     "text": [
      "Model: \"model_6\"\n",
      "__________________________________________________________________________________________________\n",
      "Layer (type)                    Output Shape         Param #     Connected to                     \n",
      "==================================================================================================\n",
      "input_14 (InputLayer)           [(None, 100)]        0                                            \n",
      "__________________________________________________________________________________________________\n",
      "embedding_13 (Embedding)        (None, 100, 50)      724600      input_14[0][0]                   \n",
      "__________________________________________________________________________________________________\n",
      "embedding_14 (Embedding)        (None, 100, 50)      3204750     input_14[0][0]                   \n",
      "__________________________________________________________________________________________________\n",
      "concatenate_4 (Concatenate)     (None, 100, 100)     0           embedding_13[0][0]               \n",
      "                                                                 embedding_14[0][0]               \n",
      "__________________________________________________________________________________________________\n",
      "bidirectional_8 (Bidirectional) (None, 200)          160800      concatenate_4[0][0]              \n",
      "__________________________________________________________________________________________________\n",
      "dense_6 (Dense)                 (None, 1)            201         bidirectional_8[0][0]            \n",
      "==================================================================================================\n",
      "Total params: 4,090,351\n",
      "Trainable params: 4,090,351\n",
      "Non-trainable params: 0\n",
      "__________________________________________________________________________________________________\n"
     ]
    }
   ],
   "source": [
    "word_model = word_feat_model(title_word2idx, text_word2idx)\n",
    "word_model.summary()"
   ]
  },
  {
   "cell_type": "code",
   "execution_count": 45,
   "metadata": {},
   "outputs": [
    {
     "name": "stdout",
     "output_type": "stream",
     "text": [
      "Train on 15700 samples, validate on 3926 samples\n",
      "Epoch 1/3\n",
      "15700/15700 [==============================] - 55s 3ms/sample - loss: 0.3747 - acc: 0.8618 - val_loss: 0.3605 - val_acc: 0.8627\n",
      "Epoch 2/3\n",
      "15700/15700 [==============================] - 52s 3ms/sample - loss: 0.2587 - acc: 0.8957 - val_loss: 0.3806 - val_acc: 0.8543\n",
      "Epoch 3/3\n",
      "15700/15700 [==============================] - 54s 3ms/sample - loss: 0.1661 - acc: 0.9358 - val_loss: 0.4724 - val_acc: 0.8192\n"
     ]
    },
    {
     "data": {
      "text/plain": [
       "<tensorflow.python.keras.callbacks.History at 0x1b1731a9548>"
      ]
     },
     "execution_count": 45,
     "metadata": {},
     "output_type": "execute_result"
    }
   ],
   "source": [
    "word_model.fit(x=[X_title_w, X_text_w], y=y, batch_size=32, epochs=3, validation_split=.2)"
   ]
  },
  {
   "cell_type": "code",
   "execution_count": 46,
   "metadata": {},
   "outputs": [],
   "source": [
    "y_hat = word_model.predict([X_title_w, X_text_w])\n",
    "y_hat = np.round(y_hat)"
   ]
  },
  {
   "cell_type": "code",
   "execution_count": 47,
   "metadata": {},
   "outputs": [
    {
     "data": {
      "text/plain": [
       "{'0': {'precision': 0.9657071783937455,\n",
       "  'recall': 0.9670244943953502,\n",
       "  'f1-score': 0.9663653874648096,\n",
       "  'support': 16861},\n",
       " '1': {'precision': 0.7972283005105762,\n",
       "  'recall': 0.7905967450271247,\n",
       "  'f1-score': 0.7938986744143818,\n",
       "  'support': 2765},\n",
       " 'accuracy': 0.9421685519209212,\n",
       " 'macro avg': {'precision': 0.8814677394521608,\n",
       "  'recall': 0.8788106197112375,\n",
       "  'f1-score': 0.8801320309395957,\n",
       "  'support': 19626},\n",
       " 'weighted avg': {'precision': 0.941971109029282,\n",
       "  'recall': 0.9421685519209212,\n",
       "  'f1-score': 0.9420674937735617,\n",
       "  'support': 19626}}"
      ]
     },
     "execution_count": 47,
     "metadata": {},
     "output_type": "execute_result"
    }
   ],
   "source": [
    "metrics.classification_report(y, y_hat, output_dict=True)"
   ]
  },
  {
   "cell_type": "code",
   "execution_count": 67,
   "metadata": {},
   "outputs": [],
   "source": [
    "import itertools\n",
    "\n",
    "def grid_search(df):\n",
    "    title_word2idx = get_word2idx(df['title_clean'])\n",
    "    text_word2idx = get_word2idx(df['text_clean'])\n",
    "    \n",
    "    y = df['y']\n",
    "    \n",
    "    best_config = None\n",
    "    \n",
    "    \n",
    "    grid = {\n",
    "        'sent_sizes' : [50, 75, 100],\n",
    "        'emb_out_dim' : [50, 100],\n",
    "        'n_lstm_units' : [100, 150],\n",
    "        'batch_s' : [32, 64],\n",
    "        \n",
    "    }\n",
    "    \n",
    "    lists_keys = ['sent_sizes', 'emb_out_dim', 'n_lstm_units', 'batch_s']\n",
    "    lists_vals = list(map(lambda k: grid[k], lists_keys))\n",
    "    \n",
    "    prod = list(itertools.product(*lists_vals))\n",
    "    \n",
    "    for (s_size, emb_dim, n_lstm, b_s) in itertools.product(*lists_vals):\n",
    "        X_title_w = convert_data(df['title_clean'], title_word2idx, sent_size=s_size)\n",
    "        X_text_w = convert_data(df['text_clean'], text_word2idx, sent_size=s_size)\n",
    "        \n",
    "        model = word_feat_model(title_word2idx, text_word2idx, sent_size=s_size, emb_out_dim=emb_dim, n_lstm_units=n_lstm)\n",
    "        \n",
    "        es = keras.callbacks.EarlyStopping(monitor='val_loss', patience=2)\n",
    "        model.fit(x=[X_title_w, X_text_w], y=y, batch_size=b_s, epochs=10, validation_split=.2, callbacks=[es])\n",
    "        \n",
    "        y_hat = model.predict([X_title_w, X_text_w])\n",
    "        y_hat = np.round(y)\n",
    "        \n",
    "        metrics_ = metrics.classification_report(y, y_hat, output_dict=True)\n",
    "        f1_ = metrics_['1']['f1-score']\n",
    "        if best_config is None or best_config['f1'] < f1_:\n",
    "            best_config = {\n",
    "                'sent_sizes' : s_size,\n",
    "                'emb_out_dim' : emb_dim,\n",
    "                'n_lstm_units' : n_lstm,\n",
    "                'batch_s' : b_s,\n",
    "                'f1' : f1_,\n",
    "                'metrics' : metrics_\n",
    "            }\n",
    "    \n",
    "    return best_config\n",
    "    "
   ]
  },
  {
   "cell_type": "code",
   "execution_count": 69,
   "metadata": {},
   "outputs": [
    {
     "name": "stdout",
     "output_type": "stream",
     "text": [
      "Train on 15700 samples, validate on 3926 samples\n",
      "Epoch 1/10\n",
      "15700/15700 [==============================] - 42s 3ms/sample - loss: 0.3755 - acc: 0.8631 - val_loss: 0.3687 - val_acc: 0.8594\n",
      "Epoch 2/10\n",
      "15700/15700 [==============================] - 36s 2ms/sample - loss: 0.2580 - acc: 0.8964 - val_loss: 0.3811 - val_acc: 0.8569\n",
      "Epoch 3/10\n",
      "15700/15700 [==============================] - 37s 2ms/sample - loss: 0.1694 - acc: 0.9337 - val_loss: 0.4486 - val_acc: 0.8385\n"
     ]
    },
    {
     "ename": "NameError",
     "evalue": "name 'f1_' is not defined",
     "output_type": "error",
     "traceback": [
      "\u001b[1;31m---------------------------------------------------------------------------\u001b[0m",
      "\u001b[1;31mNameError\u001b[0m                                 Traceback (most recent call last)",
      "\u001b[1;32m<ipython-input-69-f8fad95b9493>\u001b[0m in \u001b[0;36m<module>\u001b[1;34m\u001b[0m\n\u001b[0;32m     22\u001b[0m     \u001b[1;34m'n_lstm_units'\u001b[0m \u001b[1;33m:\u001b[0m \u001b[0mn_lstm\u001b[0m\u001b[1;33m,\u001b[0m\u001b[1;33m\u001b[0m\u001b[1;33m\u001b[0m\u001b[0m\n\u001b[0;32m     23\u001b[0m     \u001b[1;34m'batch_s'\u001b[0m \u001b[1;33m:\u001b[0m \u001b[0mb_s\u001b[0m\u001b[1;33m,\u001b[0m\u001b[1;33m\u001b[0m\u001b[1;33m\u001b[0m\u001b[0m\n\u001b[1;32m---> 24\u001b[1;33m     \u001b[1;34m'f1'\u001b[0m \u001b[1;33m:\u001b[0m \u001b[0mf1_\u001b[0m\u001b[1;33m,\u001b[0m\u001b[1;33m\u001b[0m\u001b[1;33m\u001b[0m\u001b[0m\n\u001b[0m\u001b[0;32m     25\u001b[0m     \u001b[1;34m'metrics'\u001b[0m \u001b[1;33m:\u001b[0m \u001b[0mmetrics_\u001b[0m\u001b[1;33m\u001b[0m\u001b[1;33m\u001b[0m\u001b[0m\n\u001b[0;32m     26\u001b[0m }\n",
      "\u001b[1;31mNameError\u001b[0m: name 'f1_' is not defined"
     ]
    }
   ],
   "source": [
    "title_word2idx = get_word2idx(df['title_clean'])\n",
    "text_word2idx = get_word2idx(df['text_clean'])\n",
    "\n",
    "y = df['y']\n",
    "\n",
    "(s_size, emb_dim, n_lstm, b_s) = (50, 50, 100, 32)\n",
    "X_title_w = convert_data(df['title_clean'], title_word2idx, sent_size=s_size)\n",
    "X_text_w = convert_data(df['text_clean'], text_word2idx, sent_size=s_size)\n",
    "\n",
    "model = word_feat_model(title_word2idx, text_word2idx, sent_size=s_size, emb_out_dim=emb_dim, n_lstm_units=n_lstm)\n",
    "\n",
    "es = keras.callbacks.EarlyStopping(monitor='val_loss', patience=2)\n",
    "model.fit(x=[X_title_w, X_text_w], y=y, batch_size=b_s, epochs=10, validation_split=.2, callbacks=[es])\n",
    "\n",
    "y_hat = model.predict([X_title_w, X_text_w])\n",
    "y_hat = np.round(y_hat)\n",
    "\n",
    "metrics_ = metrics.classification_report(y, y_hat, output_dict=True)\n",
    "\n",
    "\n",
    "print(model.summary())"
   ]
  },
  {
   "cell_type": "code",
   "execution_count": 71,
   "metadata": {},
   "outputs": [
    {
     "name": "stdout",
     "output_type": "stream",
     "text": [
      "Model: \"model_34\"\n",
      "__________________________________________________________________________________________________\n",
      "Layer (type)                    Output Shape         Param #     Connected to                     \n",
      "==================================================================================================\n",
      "input_70 (InputLayer)           [(None, 50)]         0                                            \n",
      "__________________________________________________________________________________________________\n",
      "embedding_69 (Embedding)        (None, 50, 50)       724600      input_70[0][0]                   \n",
      "__________________________________________________________________________________________________\n",
      "embedding_70 (Embedding)        (None, 50, 50)       3204750     input_70[0][0]                   \n",
      "__________________________________________________________________________________________________\n",
      "concatenate_32 (Concatenate)    (None, 50, 100)      0           embedding_69[0][0]               \n",
      "                                                                 embedding_70[0][0]               \n",
      "__________________________________________________________________________________________________\n",
      "bidirectional_36 (Bidirectional (None, 200)          160800      concatenate_32[0][0]             \n",
      "__________________________________________________________________________________________________\n",
      "dense_34 (Dense)                (None, 1)            201         bidirectional_36[0][0]           \n",
      "==================================================================================================\n",
      "Total params: 4,090,351\n",
      "Trainable params: 4,090,351\n",
      "Non-trainable params: 0\n",
      "__________________________________________________________________________________________________\n"
     ]
    }
   ],
   "source": [
    "model.summary()"
   ]
  },
  {
   "cell_type": "code",
   "execution_count": 70,
   "metadata": {},
   "outputs": [
    {
     "data": {
      "text/plain": [
       "{'sent_sizes': 50,\n",
       " 'emb_out_dim': 50,\n",
       " 'n_lstm_units': 100,\n",
       " 'batch_s': 32,\n",
       " 'metrics': {'0': {'precision': 0.9576753367394334,\n",
       "   'recall': 0.9782931024257161,\n",
       "   'f1-score': 0.9678744315681385,\n",
       "   'support': 16861},\n",
       "  '1': {'precision': 0.8476269775187344,\n",
       "   'recall': 0.7363471971066908,\n",
       "   'f1-score': 0.7880781885039675,\n",
       "   'support': 2765},\n",
       "  'accuracy': 0.944206664628554,\n",
       "  'macro avg': {'precision': 0.9026511571290838,\n",
       "   'recall': 0.8573201497662035,\n",
       "   'f1-score': 0.8779763100360529,\n",
       "   'support': 19626},\n",
       "  'weighted avg': {'precision': 0.9421712241721638,\n",
       "   'recall': 0.944206664628554,\n",
       "   'f1-score': 0.9425439204057807,\n",
       "   'support': 19626}}}"
      ]
     },
     "execution_count": 70,
     "metadata": {},
     "output_type": "execute_result"
    }
   ],
   "source": [
    "best_config = {\n",
    "    'sent_sizes' : s_size,\n",
    "    'emb_out_dim' : emb_dim,\n",
    "    'n_lstm_units' : n_lstm,\n",
    "    'batch_s' : b_s,\n",
    "    'metrics' : metrics_\n",
    "}\n",
    "best_config"
   ]
  },
  {
   "cell_type": "code",
   "execution_count": 68,
   "metadata": {},
   "outputs": [
    {
     "name": "stdout",
     "output_type": "stream",
     "text": [
      "Train on 15700 samples, validate on 3926 samples\n",
      "Epoch 1/10\n",
      "15700/15700 [==============================] - 33s 2ms/sample - loss: 0.3760 - acc: 0.8615 - val_loss: 0.3598 - val_acc: 0.8599\n",
      "Epoch 2/10\n",
      "15700/15700 [==============================] - 32s 2ms/sample - loss: 0.2568 - acc: 0.8968 - val_loss: 0.3810 - val_acc: 0.8553\n",
      "Epoch 3/10\n",
      "15700/15700 [==============================] - 32s 2ms/sample - loss: 0.1679 - acc: 0.9355 - val_loss: 0.4540 - val_acc: 0.8360\n",
      "Train on 15700 samples, validate on 3926 samples\n",
      "Epoch 1/10\n",
      "15700/15700 [==============================] - 27s 2ms/sample - loss: 0.3823 - acc: 0.8591 - val_loss: 0.3664 - val_acc: 0.8571\n",
      "Epoch 2/10\n",
      "15700/15700 [==============================] - 22s 1ms/sample - loss: 0.2698 - acc: 0.8887 - val_loss: 0.3809 - val_acc: 0.8561\n",
      "Epoch 3/10\n",
      "15700/15700 [==============================] - 22s 1ms/sample - loss: 0.1795 - acc: 0.9288 - val_loss: 0.4468 - val_acc: 0.8444\n",
      "Train on 15700 samples, validate on 3926 samples\n",
      "Epoch 1/10\n",
      "15700/15700 [==============================] - 48s 3ms/sample - loss: 0.3757 - acc: 0.8626 - val_loss: 0.3644 - val_acc: 0.8594\n",
      "Epoch 2/10\n",
      "15700/15700 [==============================] - 44s 3ms/sample - loss: 0.2594 - acc: 0.8961 - val_loss: 0.3980 - val_acc: 0.8500\n",
      "Epoch 3/10\n",
      "15700/15700 [==============================] - 41s 3ms/sample - loss: 0.1662 - acc: 0.9373 - val_loss: 0.4632 - val_acc: 0.8377\n",
      "Train on 15700 samples, validate on 3926 samples\n",
      "Epoch 1/10\n",
      "15700/15700 [==============================] - 37s 2ms/sample - loss: 0.3797 - acc: 0.8630 - val_loss: 0.3633 - val_acc: 0.8617\n",
      "Epoch 2/10\n",
      "15700/15700 [==============================] - 31s 2ms/sample - loss: 0.2770 - acc: 0.8896 - val_loss: 0.3743 - val_acc: 0.8543\n",
      "Epoch 3/10\n",
      "15700/15700 [==============================] - 31s 2ms/sample - loss: 0.1812 - acc: 0.9278 - val_loss: 0.4364 - val_acc: 0.8469\n",
      "Train on 15700 samples, validate on 3926 samples\n",
      "Epoch 1/10\n",
      "15700/15700 [==============================] - 55s 3ms/sample - loss: 0.3723 - acc: 0.8625 - val_loss: 0.3634 - val_acc: 0.8627\n",
      "Epoch 2/10\n",
      "15700/15700 [==============================] - 49s 3ms/sample - loss: 0.2520 - acc: 0.9001 - val_loss: 0.3992 - val_acc: 0.8464\n",
      "Epoch 3/10\n",
      "15700/15700 [==============================] - 52s 3ms/sample - loss: 0.1537 - acc: 0.9394 - val_loss: 0.4707 - val_acc: 0.8362\n",
      "Train on 15700 samples, validate on 3926 samples\n",
      "Epoch 1/10\n",
      "15700/15700 [==============================] - 40s 3ms/sample - loss: 0.3779 - acc: 0.8606 - val_loss: 0.3709 - val_acc: 0.8607\n",
      "Epoch 2/10\n",
      "15700/15700 [==============================] - 37s 2ms/sample - loss: 0.2617 - acc: 0.8946 - val_loss: 0.3788 - val_acc: 0.8495\n",
      "Epoch 3/10\n",
      "15700/15700 [==============================] - 36s 2ms/sample - loss: 0.1687 - acc: 0.9345 - val_loss: 0.4150 - val_acc: 0.8497\n",
      "Train on 15700 samples, validate on 3926 samples\n",
      "Epoch 1/10\n",
      "15700/15700 [==============================] - 71s 5ms/sample - loss: 0.3718 - acc: 0.8638 - val_loss: 0.3610 - val_acc: 0.8622\n",
      "Epoch 2/10\n",
      "15700/15700 [==============================] - 65s 4ms/sample - loss: 0.2642 - acc: 0.8932 - val_loss: 0.3833 - val_acc: 0.8548\n",
      "Epoch 3/10\n",
      "15700/15700 [==============================] - 62s 4ms/sample - loss: 0.1640 - acc: 0.9364 - val_loss: 0.4586 - val_acc: 0.8377\n",
      "Train on 15700 samples, validate on 3926 samples\n",
      "Epoch 1/10\n",
      "15700/15700 [==============================] - 49s 3ms/sample - loss: 0.3795 - acc: 0.8624 - val_loss: 0.3624 - val_acc: 0.8602\n",
      "Epoch 2/10\n",
      "15700/15700 [==============================] - 46s 3ms/sample - loss: 0.2625 - acc: 0.8935 - val_loss: 0.3807 - val_acc: 0.8535\n",
      "Epoch 3/10\n",
      "15700/15700 [==============================] - 45s 3ms/sample - loss: 0.1669 - acc: 0.9330 - val_loss: 0.4512 - val_acc: 0.8462\n",
      "Train on 15700 samples, validate on 3926 samples\n",
      "Epoch 1/10\n",
      "15700/15700 [==============================] - 45s 3ms/sample - loss: 0.3777 - acc: 0.8604 - val_loss: 0.3608 - val_acc: 0.8602\n",
      "Epoch 2/10\n",
      "15700/15700 [==============================] - 41s 3ms/sample - loss: 0.2593 - acc: 0.8953 - val_loss: 0.3781 - val_acc: 0.8622\n",
      "Epoch 3/10\n",
      "15700/15700 [==============================] - 42s 3ms/sample - loss: 0.1690 - acc: 0.9337 - val_loss: 0.4505 - val_acc: 0.8474\n",
      "Train on 15700 samples, validate on 3926 samples\n",
      "Epoch 1/10\n",
      "15700/15700 [==============================] - 46s 3ms/sample - loss: 0.3839 - acc: 0.8604 - val_loss: 0.3602 - val_acc: 0.8581\n",
      "Epoch 2/10\n",
      "15700/15700 [==============================] - 42s 3ms/sample - loss: 0.2668 - acc: 0.8896 - val_loss: 0.3783 - val_acc: 0.8543\n",
      "Epoch 3/10\n",
      "15700/15700 [==============================] - 42s 3ms/sample - loss: 0.1755 - acc: 0.9299 - val_loss: 0.4536 - val_acc: 0.8296\n",
      "Train on 15700 samples, validate on 3926 samples\n",
      "Epoch 1/10\n",
      "15700/15700 [==============================] - 66s 4ms/sample - loss: 0.3772 - acc: 0.8628 - val_loss: 0.3651 - val_acc: 0.8604\n",
      "Epoch 2/10\n",
      "15700/15700 [==============================] - 63s 4ms/sample - loss: 0.2623 - acc: 0.8965 - val_loss: 0.3771 - val_acc: 0.8538\n",
      "Epoch 3/10\n",
      "15700/15700 [==============================] - 64s 4ms/sample - loss: 0.1819 - acc: 0.9280 - val_loss: 0.4540 - val_acc: 0.8436\n",
      "Train on 15700 samples, validate on 3926 samples\n",
      "Epoch 1/10\n",
      "15700/15700 [==============================] - 49s 3ms/sample - loss: 0.3870 - acc: 0.8597 - val_loss: 0.3640 - val_acc: 0.8574\n",
      "Epoch 2/10\n",
      "15700/15700 [==============================] - 47s 3ms/sample - loss: 0.2709 - acc: 0.8918 - val_loss: 0.3700 - val_acc: 0.8563\n",
      "Epoch 3/10\n",
      "15700/15700 [==============================] - 46s 3ms/sample - loss: 0.1897 - acc: 0.9256 - val_loss: 0.4326 - val_acc: 0.8459\n",
      "Train on 15700 samples, validate on 3926 samples\n",
      "Epoch 1/10\n",
      "15700/15700 [==============================] - 65s 4ms/sample - loss: 0.3711 - acc: 0.8651 - val_loss: 0.3674 - val_acc: 0.8614\n",
      "Epoch 2/10\n",
      "15700/15700 [==============================] - 62s 4ms/sample - loss: 0.2503 - acc: 0.9011 - val_loss: 0.3855 - val_acc: 0.8591\n",
      "Epoch 3/10\n",
      "15700/15700 [==============================] - 63s 4ms/sample - loss: 0.1536 - acc: 0.9431 - val_loss: 0.4270 - val_acc: 0.8362\n",
      "Train on 15700 samples, validate on 3926 samples\n",
      "Epoch 1/10\n",
      "15700/15700 [==============================] - 59s 4ms/sample - loss: 0.3810 - acc: 0.8602 - val_loss: 0.3605 - val_acc: 0.8609\n",
      "Epoch 2/10\n",
      "15700/15700 [==============================] - 57s 4ms/sample - loss: 0.2583 - acc: 0.8971 - val_loss: 0.3783 - val_acc: 0.8589\n",
      "Epoch 3/10\n",
      "15700/15700 [==============================] - 56s 4ms/sample - loss: 0.1637 - acc: 0.9373 - val_loss: 0.4400 - val_acc: 0.8428\n",
      "Train on 15700 samples, validate on 3926 samples\n",
      "Epoch 1/10\n",
      "15700/15700 [==============================] - 96s 6ms/sample - loss: 0.3694 - acc: 0.8648 - val_loss: 0.3583 - val_acc: 0.8609\n",
      "Epoch 2/10\n",
      "15700/15700 [==============================] - 87s 6ms/sample - loss: 0.2612 - acc: 0.8971 - val_loss: 0.3928 - val_acc: 0.8482\n",
      "Epoch 3/10\n",
      "15700/15700 [==============================] - 91s 6ms/sample - loss: 0.1624 - acc: 0.9392 - val_loss: 0.4685 - val_acc: 0.8418\n",
      "Train on 15700 samples, validate on 3926 samples\n",
      "Epoch 1/10\n",
      "15700/15700 [==============================] - 74s 5ms/sample - loss: 0.3820 - acc: 0.8599 - val_loss: 0.3619 - val_acc: 0.8602\n",
      "Epoch 2/10\n",
      "15700/15700 [==============================] - 73s 5ms/sample - loss: 0.2673 - acc: 0.8922 - val_loss: 0.3755 - val_acc: 0.8535\n",
      "Epoch 3/10\n",
      "15700/15700 [==============================] - 73s 5ms/sample - loss: 0.1778 - acc: 0.9321 - val_loss: 0.4429 - val_acc: 0.8329\n",
      "Train on 15700 samples, validate on 3926 samples\n",
      "Epoch 1/10\n",
      "15700/15700 [==============================] - 62s 4ms/sample - loss: 0.3754 - acc: 0.8629 - val_loss: 0.3616 - val_acc: 0.8599\n",
      "Epoch 2/10\n",
      "15700/15700 [==============================] - 55s 3ms/sample - loss: 0.2580 - acc: 0.8970 - val_loss: 0.3812 - val_acc: 0.8512\n",
      "Epoch 3/10\n",
      "15700/15700 [==============================] - 55s 4ms/sample - loss: 0.1761 - acc: 0.9302 - val_loss: 0.4359 - val_acc: 0.8462\n",
      "Train on 15700 samples, validate on 3926 samples\n",
      "Epoch 1/10\n",
      "15700/15700 [==============================] - 60s 4ms/sample - loss: 0.3809 - acc: 0.8608 - val_loss: 0.3744 - val_acc: 0.8581\n",
      "Epoch 2/10\n",
      "15700/15700 [==============================] - 56s 4ms/sample - loss: 0.2676 - acc: 0.8920 - val_loss: 0.3693 - val_acc: 0.8594\n",
      "Epoch 3/10\n",
      "15700/15700 [==============================] - 60s 4ms/sample - loss: 0.1823 - acc: 0.9271 - val_loss: 0.4433 - val_acc: 0.8406\n",
      "Epoch 4/10\n",
      "15700/15700 [==============================] - 56s 4ms/sample - loss: 0.1169 - acc: 0.9578 - val_loss: 0.4956 - val_acc: 0.8395\n",
      "Train on 15700 samples, validate on 3926 samples\n",
      "Epoch 1/10\n",
      "15700/15700 [==============================] - 85s 5ms/sample - loss: 0.3754 - acc: 0.8631 - val_loss: 0.3614 - val_acc: 0.8602\n",
      "Epoch 2/10\n",
      "15700/15700 [==============================] - 82s 5ms/sample - loss: 0.2615 - acc: 0.8959 - val_loss: 0.3771 - val_acc: 0.8594\n",
      "Epoch 3/10\n",
      "15700/15700 [==============================] - 87s 6ms/sample - loss: 0.1701 - acc: 0.9364 - val_loss: 0.4296 - val_acc: 0.8395\n",
      "Train on 15700 samples, validate on 3926 samples\n",
      "Epoch 1/10\n",
      "15700/15700 [==============================] - 77s 5ms/sample - loss: 0.3817 - acc: 0.8628 - val_loss: 0.3705 - val_acc: 0.8619\n",
      "Epoch 2/10\n",
      "15700/15700 [==============================] - 73s 5ms/sample - loss: 0.2665 - acc: 0.8929 - val_loss: 0.3726 - val_acc: 0.8548\n",
      "Epoch 3/10\n",
      "15700/15700 [==============================] - 75s 5ms/sample - loss: 0.1867 - acc: 0.9264 - val_loss: 0.4547 - val_acc: 0.8487\n",
      "Train on 15700 samples, validate on 3926 samples\n",
      "Epoch 1/10\n",
      "15700/15700 [==============================] - 76s 5ms/sample - loss: 0.3730 - acc: 0.8627 - val_loss: 0.3580 - val_acc: 0.8609\n",
      "Epoch 2/10\n",
      "15700/15700 [==============================] - 73s 5ms/sample - loss: 0.2561 - acc: 0.8975 - val_loss: 0.3920 - val_acc: 0.8525\n",
      "Epoch 3/10\n",
      "15700/15700 [==============================] - 74s 5ms/sample - loss: 0.1600 - acc: 0.9401 - val_loss: 0.4629 - val_acc: 0.8311\n",
      "Train on 15700 samples, validate on 3926 samples\n",
      "Epoch 1/10\n",
      "15700/15700 [==============================] - 71s 5ms/sample - loss: 0.3788 - acc: 0.8631 - val_loss: 0.3627 - val_acc: 0.8599\n",
      "Epoch 2/10\n",
      "15700/15700 [==============================] - 65s 4ms/sample - loss: 0.2635 - acc: 0.8933 - val_loss: 0.3922 - val_acc: 0.8421\n",
      "Epoch 3/10\n",
      "15700/15700 [==============================] - 66s 4ms/sample - loss: 0.1739 - acc: 0.9320 - val_loss: 0.4349 - val_acc: 0.8349\n",
      "Train on 15700 samples, validate on 3926 samples\n",
      "Epoch 1/10\n",
      "15700/15700 [==============================] - 119s 8ms/sample - loss: 0.3712 - acc: 0.8639 - val_loss: 0.3719 - val_acc: 0.8597\n",
      "Epoch 2/10\n",
      "15700/15700 [==============================] - 124s 8ms/sample - loss: 0.2770 - acc: 0.8912 - val_loss: 0.3878 - val_acc: 0.8548\n",
      "Epoch 3/10\n",
      "15700/15700 [==============================] - 124s 8ms/sample - loss: 0.1696 - acc: 0.9338 - val_loss: 0.4520 - val_acc: 0.8467\n",
      "Train on 15700 samples, validate on 3926 samples\n",
      "Epoch 1/10\n",
      "15700/15700 [==============================] - 119s 8ms/sample - loss: 0.3785 - acc: 0.8627 - val_loss: 0.3622 - val_acc: 0.8594\n",
      "Epoch 2/10\n",
      "15700/15700 [==============================] - 118s 7ms/sample - loss: 0.2646 - acc: 0.8955 - val_loss: 0.3886 - val_acc: 0.8558\n",
      "Epoch 3/10\n",
      "15700/15700 [==============================] - 114s 7ms/sample - loss: 0.1809 - acc: 0.9304 - val_loss: 0.4542 - val_acc: 0.8327\n"
     ]
    },
    {
     "data": {
      "text/plain": [
       "{'sent_sizes': 50,\n",
       " 'emb_out_dim': 50,\n",
       " 'n_lstm_units': 100,\n",
       " 'batch_s': 32,\n",
       " 'f1': 1.0,\n",
       " 'metrics': {'0': {'precision': 1.0,\n",
       "   'recall': 1.0,\n",
       "   'f1-score': 1.0,\n",
       "   'support': 16861},\n",
       "  '1': {'precision': 1.0, 'recall': 1.0, 'f1-score': 1.0, 'support': 2765},\n",
       "  'accuracy': 1.0,\n",
       "  'macro avg': {'precision': 1.0,\n",
       "   'recall': 1.0,\n",
       "   'f1-score': 1.0,\n",
       "   'support': 19626},\n",
       "  'weighted avg': {'precision': 1.0,\n",
       "   'recall': 1.0,\n",
       "   'f1-score': 1.0,\n",
       "   'support': 19626}}}"
      ]
     },
     "execution_count": 68,
     "metadata": {},
     "output_type": "execute_result"
    }
   ],
   "source": [
    "grid_search(df)"
   ]
  },
  {
   "cell_type": "code",
   "execution_count": 43,
   "metadata": {},
   "outputs": [
    {
     "data": {
      "text/plain": [
       "<matplotlib.legend.Legend at 0x28ee4f50cc8>"
      ]
     },
     "execution_count": 43,
     "metadata": {},
     "output_type": "execute_result"
    },
    {
     "data": {
      "image/png": "[encoded data removed]",
      "text/plain": [
       "<Figure size 432x288 with 1 Axes>"
      ]
     },
     "metadata": {
      "needs_background": "light"
     },
     "output_type": "display_data"
    }
   ],
   "source": [
    "plt.plot(hist.history['loss'], label='loss')\n",
    "plt.plot(hist.history['val_loss'], label='val loss')\n",
    "plt.title('Model training loss')\n",
    "plt.legend()"
   ]
  },
  {
   "cell_type": "code",
   "execution_count": null,
   "metadata": {},
   "outputs": [],
   "source": []
  },
  {
   "cell_type": "code",
   "execution_count": 44,
   "metadata": {},
   "outputs": [
    {
     "data": {
      "text/plain": [
       "<matplotlib.legend.Legend at 0x28ee4fcb188>"
      ]
     },
     "execution_count": 44,
     "metadata": {},
     "output_type": "execute_result"
    },
    {
     "data": {
      "image/png": "[encoded data removed]",
      "text/plain": [
       "<Figure size 432x288 with 1 Axes>"
      ]
     },
     "metadata": {
      "needs_background": "light"
     },
     "output_type": "display_data"
    }
   ],
   "source": [
    "plt.plot(hist.history['acc'], label='acc')\n",
    "plt.plot(hist.history['val_acc'], label='val acc')\n",
    "plt.title('Model training acc')\n",
    "plt.legend()"
   ]
  }
 ],
 "metadata": {
  "kernelspec": {
   "display_name": "tensorflow20",
   "language": "python",
   "name": "tensorflow20"
  },
  "language_info": {
   "codemirror_mode": {
    "name": "ipython",
    "version": 3
   },
   "file_extension": ".py",
   "mimetype": "text/x-python",
   "name": "python",
   "nbconvert_exporter": "python",
   "pygments_lexer": "ipython3",
   "version": "3.7.6"
  }
 },
 "nbformat": 4,
 "nbformat_minor": 4
}
