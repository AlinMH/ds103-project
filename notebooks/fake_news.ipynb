{
 "metadata": {
  "language_info": {
   "codemirror_mode": {
    "name": "ipython",
    "version": 3
   },
   "file_extension": ".py",
   "mimetype": "text/x-python",
   "name": "python",
   "nbconvert_exporter": "python",
   "pygments_lexer": "ipython3",
   "version": "3.7.2-final"
  },
  "orig_nbformat": 2,
  "kernelspec": {
   "name": "python3",
   "display_name": "Python 3",
   "language": "python"
  }
 },
 "nbformat": 4,
 "nbformat_minor": 2,
 "cells": [
  {
   "cell_type": "code",
   "execution_count": 5,
   "metadata": {},
   "outputs": [],
   "source": [
    "import pandas as pd\n",
    "import numpy as np"
   ]
  },
  {
   "cell_type": "code",
   "execution_count": 2,
   "metadata": {},
   "outputs": [
    {
     "output_type": "execute_result",
     "data": {
      "text/plain": [
       "        source                                              title  \\\n",
       "0       evz.ro  Ministrul spulberă informațiile despre pensii....   \n",
       "1  adevarul.ro  G4Media: Klaus Iohannis i-a cerut premierului ...   \n",
       "2   puterea.ro  ULTIMA ORĂ: Medicul Mircea Beuran a fost REȚIN...   \n",
       "3  agerpres.ro  Iohannis, în Israel: România - angajată să con...   \n",
       "4      news.ro  Avertizări cod galben şi cod portocaliu de plo...   \n",
       "\n",
       "                                                text  \\\n",
       "0  Ministrul Muncii Violeta Alexandru a declarat ...   \n",
       "1  Preşedintele Klaus Iohannis i-a cerut, vineri,...   \n",
       "2  Medicul Mircea Beuran a fost reținut pentru 24...   \n",
       "3  \\nTrimisul special al AGERPRES, Florentina Pei...   \n",
       "4  Meteorologii au emis saâmbătă seară avertizări...   \n",
       "\n",
       "                                                 url  \n",
       "0  https://evz.ro/bomba-despre-pensii-ministrul-s...  \n",
       "1  https://adevarul.ro/news/politica/g4media-klau...  \n",
       "2  https://www.puterea.ro/eveniment/ultima-ora-me...  \n",
       "3  https://www.agerpres.ro/politica/2020/01/21/io...  \n",
       "4  https://www.news.ro/social/avertizari-cod-galb...  "
      ],
      "text/html": "<div>\n<style scoped>\n    .dataframe tbody tr th:only-of-type {\n        vertical-align: middle;\n    }\n\n    .dataframe tbody tr th {\n        vertical-align: top;\n    }\n\n    .dataframe thead th {\n        text-align: right;\n    }\n</style>\n<table border=\"1\" class=\"dataframe\">\n  <thead>\n    <tr style=\"text-align: right;\">\n      <th></th>\n      <th>source</th>\n      <th>title</th>\n      <th>text</th>\n      <th>url</th>\n    </tr>\n  </thead>\n  <tbody>\n    <tr>\n      <th>0</th>\n      <td>evz.ro</td>\n      <td>Ministrul spulberă informațiile despre pensii....</td>\n      <td>Ministrul Muncii Violeta Alexandru a declarat ...</td>\n      <td>https://evz.ro/bomba-despre-pensii-ministrul-s...</td>\n    </tr>\n    <tr>\n      <th>1</th>\n      <td>adevarul.ro</td>\n      <td>G4Media: Klaus Iohannis i-a cerut premierului ...</td>\n      <td>Preşedintele Klaus Iohannis i-a cerut, vineri,...</td>\n      <td>https://adevarul.ro/news/politica/g4media-klau...</td>\n    </tr>\n    <tr>\n      <th>2</th>\n      <td>puterea.ro</td>\n      <td>ULTIMA ORĂ: Medicul Mircea Beuran a fost REȚIN...</td>\n      <td>Medicul Mircea Beuran a fost reținut pentru 24...</td>\n      <td>https://www.puterea.ro/eveniment/ultima-ora-me...</td>\n    </tr>\n    <tr>\n      <th>3</th>\n      <td>agerpres.ro</td>\n      <td>Iohannis, în Israel: România - angajată să con...</td>\n      <td>\\nTrimisul special al AGERPRES, Florentina Pei...</td>\n      <td>https://www.agerpres.ro/politica/2020/01/21/io...</td>\n    </tr>\n    <tr>\n      <th>4</th>\n      <td>news.ro</td>\n      <td>Avertizări cod galben şi cod portocaliu de plo...</td>\n      <td>Meteorologii au emis saâmbătă seară avertizări...</td>\n      <td>https://www.news.ro/social/avertizari-cod-galb...</td>\n    </tr>\n  </tbody>\n</table>\n</div>"
     },
     "metadata": {},
     "execution_count": 2
    }
   ],
   "source": [
    "df = pd.read_csv(\"../data/ro_news.csv\")\n",
    "df.head()"
   ]
  },
  {
   "cell_type": "code",
   "execution_count": null,
   "metadata": {},
   "outputs": [],
   "source": []
  }
 ]
}