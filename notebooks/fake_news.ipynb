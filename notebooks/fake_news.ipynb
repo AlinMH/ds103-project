{
 "cells": [
  {
   "cell_type": "code",
   "execution_count": 1,
   "metadata": {},
   "outputs": [],
   "source": [
    "import pandas as pd\n",
    "import numpy as np\n",
    "from nltk.tokenize import word_tokenize\n",
    "from tensorflow import keras\n",
    "from nltk.stem.snowball import RomanianStemmer\n",
    "from unidecode import unidecode"
   ]
  },
  {
   "cell_type": "code",
   "execution_count": 2,
   "metadata": {},
   "outputs": [
    {
     "data": {
      "text/html": [
       "<div>\n",
       "<style scoped>\n",
       "    .dataframe tbody tr th:only-of-type {\n",
       "        vertical-align: middle;\n",
       "    }\n",
       "\n",
       "    .dataframe tbody tr th {\n",
       "        vertical-align: top;\n",
       "    }\n",
       "\n",
       "    .dataframe thead th {\n",
       "        text-align: right;\n",
       "    }\n",
       "</style>\n",
       "<table border=\"1\" class=\"dataframe\">\n",
       "  <thead>\n",
       "    <tr style=\"text-align: right;\">\n",
       "      <th></th>\n",
       "      <th>source</th>\n",
       "      <th>title</th>\n",
       "      <th>text</th>\n",
       "      <th>url</th>\n",
       "    </tr>\n",
       "  </thead>\n",
       "  <tbody>\n",
       "    <tr>\n",
       "      <th>0</th>\n",
       "      <td>evz.ro</td>\n",
       "      <td>Ministrul spulberă informațiile despre pensii....</td>\n",
       "      <td>Ministrul Muncii Violeta Alexandru a declarat ...</td>\n",
       "      <td>https://evz.ro/bomba-despre-pensii-ministrul-s...</td>\n",
       "    </tr>\n",
       "    <tr>\n",
       "      <th>1</th>\n",
       "      <td>adevarul.ro</td>\n",
       "      <td>G4Media: Klaus Iohannis i-a cerut premierului ...</td>\n",
       "      <td>Preşedintele Klaus Iohannis i-a cerut, vineri,...</td>\n",
       "      <td>https://adevarul.ro/news/politica/g4media-klau...</td>\n",
       "    </tr>\n",
       "    <tr>\n",
       "      <th>2</th>\n",
       "      <td>puterea.ro</td>\n",
       "      <td>ULTIMA ORĂ: Medicul Mircea Beuran a fost REȚIN...</td>\n",
       "      <td>Medicul Mircea Beuran a fost reținut pentru 24...</td>\n",
       "      <td>https://www.puterea.ro/eveniment/ultima-ora-me...</td>\n",
       "    </tr>\n",
       "    <tr>\n",
       "      <th>3</th>\n",
       "      <td>agerpres.ro</td>\n",
       "      <td>Iohannis, în Israel: România - angajată să con...</td>\n",
       "      <td>\\r\\nTrimisul special al AGERPRES, Florentina P...</td>\n",
       "      <td>https://www.agerpres.ro/politica/2020/01/21/io...</td>\n",
       "    </tr>\n",
       "    <tr>\n",
       "      <th>4</th>\n",
       "      <td>news.ro</td>\n",
       "      <td>Avertizări cod galben şi cod portocaliu de plo...</td>\n",
       "      <td>Meteorologii au emis saâmbătă seară avertizări...</td>\n",
       "      <td>https://www.news.ro/social/avertizari-cod-galb...</td>\n",
       "    </tr>\n",
       "  </tbody>\n",
       "</table>\n",
       "</div>"
      ],
      "text/plain": [
       "        source                                              title  \\\n",
       "0       evz.ro  Ministrul spulberă informațiile despre pensii....   \n",
       "1  adevarul.ro  G4Media: Klaus Iohannis i-a cerut premierului ...   \n",
       "2   puterea.ro  ULTIMA ORĂ: Medicul Mircea Beuran a fost REȚIN...   \n",
       "3  agerpres.ro  Iohannis, în Israel: România - angajată să con...   \n",
       "4      news.ro  Avertizări cod galben şi cod portocaliu de plo...   \n",
       "\n",
       "                                                text  \\\n",
       "0  Ministrul Muncii Violeta Alexandru a declarat ...   \n",
       "1  Preşedintele Klaus Iohannis i-a cerut, vineri,...   \n",
       "2  Medicul Mircea Beuran a fost reținut pentru 24...   \n",
       "3  \\r\\nTrimisul special al AGERPRES, Florentina P...   \n",
       "4  Meteorologii au emis saâmbătă seară avertizări...   \n",
       "\n",
       "                                                 url  \n",
       "0  https://evz.ro/bomba-despre-pensii-ministrul-s...  \n",
       "1  https://adevarul.ro/news/politica/g4media-klau...  \n",
       "2  https://www.puterea.ro/eveniment/ultima-ora-me...  \n",
       "3  https://www.agerpres.ro/politica/2020/01/21/io...  \n",
       "4  https://www.news.ro/social/avertizari-cod-galb...  "
      ]
     },
     "execution_count": 2,
     "metadata": {},
     "output_type": "execute_result"
    }
   ],
   "source": [
    "df = pd.read_csv(\"../data/ro_news.csv\")\n",
    "df.head()"
   ]
  },
  {
   "cell_type": "code",
   "execution_count": 3,
   "metadata": {},
   "outputs": [],
   "source": [
    "df['y'] = df['source'].apply(lambda x: x in ('puterea.ro', 'b1.ro')).astype(int)"
   ]
  },
  {
   "cell_type": "code",
   "execution_count": 4,
   "metadata": {},
   "outputs": [],
   "source": [
    "def clean(txt):\n",
    "    tokens = word_tokenize(txt)\n",
    "    stemmer = RomanianStemmer()\n",
    "    # remove all tokens that are not alphabetic\n",
    "    words = [stemmer.stem(unidecode(word.lower())) for word in tokens if word.isalpha()]\n",
    "    return words"
   ]
  },
  {
   "cell_type": "code",
   "execution_count": 5,
   "metadata": {},
   "outputs": [
    {
     "name": "stdout",
     "output_type": "stream",
     "text": [
      "Wall time: 4min 46s\n"
     ]
    }
   ],
   "source": [
    "%%time\n",
    "df['title_clean'] = df['title'].apply(clean)\n",
    "df['text_clean'] = df['text'].apply(clean)"
   ]
  },
  {
   "cell_type": "code",
   "execution_count": 7,
   "metadata": {},
   "outputs": [],
   "source": [
    "def get_vocabulary(X):\n",
    "    chars_ = set()\n",
    "    for sent in X:\n",
    "        for w in sent:\n",
    "            for c in w:\n",
    "                chars_.add(c)\n",
    "    chars_ = sorted(list(chars_))\n",
    "    char2idx = { c : i + 1 for i, c in enumerate(chars_)}\n",
    "    return char2idx\n",
    "\n",
    "def get_char_features(X, char2idx, sent_size=100, char_feat_size=10):\n",
    "    def word2charidxs(word, char2idx):\n",
    "        char_feats = list(map(lambda c : char2idx.get(c, 0), word))\n",
    "        return char_feats\n",
    "    \n",
    "    X_chars = []\n",
    "    for sent in X:\n",
    "        sent_indx = list(map(lambda x: word2charidxs(x, char2idx), sent))\n",
    "        sent_indx = keras.preprocessing.sequence.pad_sequences(maxlen=char_feat_size,\n",
    "            sequences=sent_indx, padding=\"post\", truncating=\"post\", value=0)\n",
    "        X_chars.append(sent_indx)\n",
    "    pad_val = np.zeros((sent_size, char_feat_size))\n",
    "    X_chars = keras.preprocessing.sequence.pad_sequences(maxlen=sent_size, sequences=X_chars,\n",
    "        padding=\"post\", truncating=\"post\", value = pad_val)\n",
    "    return X_chars"
   ]
  },
  {
   "cell_type": "code",
   "execution_count": 8,
   "metadata": {},
   "outputs": [
    {
     "name": "stdout",
     "output_type": "stream",
     "text": [
      "Wall time: 1.77 s\n"
     ]
    }
   ],
   "source": [
    "%%time\n",
    "title_char2idx = get_vocabulary(df['title_clean'])\n",
    "text_char2idx = get_vocabulary(df['text_clean'])"
   ]
  },
  {
   "cell_type": "code",
   "execution_count": 9,
   "metadata": {},
   "outputs": [
    {
     "name": "stdout",
     "output_type": "stream",
     "text": [
      "Wall time: 27.2 s\n"
     ]
    }
   ],
   "source": [
    "%%time\n",
    "X_title = get_char_features(df['title_clean'], title_char2idx)\n",
    "X_text = get_char_features(df['text_clean'], text_char2idx)"
   ]
  },
  {
   "cell_type": "code",
   "execution_count": 10,
   "metadata": {},
   "outputs": [],
   "source": [
    "import seaborn as sns\n",
    "import matplotlib.pyplot as plt"
   ]
  },
  {
   "cell_type": "code",
   "execution_count": 23,
   "metadata": {},
   "outputs": [
    {
     "data": {
      "image/png": "[encoded data removed]",
      "text/plain": [
       "<Figure size 432x288 with 1 Axes>"
      ]
     },
     "metadata": {
      "needs_background": "light"
     },
     "output_type": "display_data"
    }
   ],
   "source": [
    "fig, ax = plt.subplots(1)\n",
    "sns.distplot(df['title_clean'].apply(lambda x: len(x)), ax=ax)\n",
    "ax.set_title('Title Length')\n",
    "ax.set_xlabel('length')\n",
    "ax.set_ylabel('perc')\n",
    "plt.show()"
   ]
  },
  {
   "cell_type": "code",
   "execution_count": 25,
   "metadata": {},
   "outputs": [
    {
     "data": {
      "image/png": "[encoded data removed]",
      "text/plain": [
       "<Figure size 432x288 with 1 Axes>"
      ]
     },
     "metadata": {
      "needs_background": "light"
     },
     "output_type": "display_data"
    }
   ],
   "source": [
    "fig, ax = plt.subplots(1)\n",
    "aux_series = df['text_clean'].apply(lambda x: len(x))\n",
    "aux_series = aux_series[aux_series.between(aux_series.quantile(.5), aux_series.quantile(.95))]\n",
    "sns.distplot(aux_series, ax=ax)\n",
    "ax.set_title('Text Length')\n",
    "ax.set_xlabel('length')\n",
    "ax.set_ylabel('perc')\n",
    "plt.show()"
   ]
  },
  {
   "cell_type": "code",
   "execution_count": 11,
   "metadata": {},
   "outputs": [],
   "source": [
    "# char encoding\n",
    "SENT_SIZE = 100\n",
    "CHAR_FEAT_SIZE = 10\n",
    "\n",
    "def title_only_model(char2idx):\n",
    "    # TITLE INPUT\n",
    "    title_input = keras.layers.Input(shape=(SENT_SIZE, CHAR_FEAT_SIZE))\n",
    "    title_char_emb = keras.layers.TimeDistributed(keras.layers.Embedding(input_dim=len(char2idx) + 1,\n",
    "        output_dim=30, input_length=CHAR_FEAT_SIZE))(title_input)  \n",
    "\n",
    "    title_char_dropout = keras.layers.Dropout(0.5)(title_char_emb)\n",
    "    title_char_conv1d = keras.layers.TimeDistributed(keras.layers.Conv1D(kernel_size=3, filters=32,\n",
    "        padding='same',activation='tanh', strides=1))(title_char_dropout)\n",
    "    title_char_maxpool = keras.layers.TimeDistributed(keras.layers.MaxPooling1D(CHAR_FEAT_SIZE))(title_char_conv1d)\n",
    "    title_char_feats = keras.layers.TimeDistributed(keras.layers.Flatten())(title_char_maxpool)\n",
    "\n",
    "    #all_feat = keras.layers.concatenate([char_feats])\n",
    "    all_feat = title_char_feats\n",
    "\n",
    "    all_out = keras.layers.SpatialDropout1D(0.3)(all_feat)\n",
    "\n",
    "    bi_lstm = keras.layers.Bidirectional(keras.layers.LSTM(units=100,\n",
    "            return_sequences=False))(all_out)\n",
    "\n",
    "    out = keras.layers.Dense(1, activation=\"sigmoid\")(bi_lstm)\n",
    "\n",
    "    model = keras.models.Model([title_input], out)\n",
    "    model.compile(optimizer='adam', loss=keras.losses.binary_crossentropy, metrics=['acc'])\n",
    "\n",
    "    return model\n",
    "\n",
    "\n",
    "\n",
    "def title_and_text_model(title_char2idx, text_char2idx):\n",
    "    # TITLE INPUT\n",
    "    title_input = keras.layers.Input(shape=(SENT_SIZE, CHAR_FEAT_SIZE))\n",
    "    title_char_emb = keras.layers.TimeDistributed(keras.layers.Embedding(input_dim=len(title_char2idx) + 1,\n",
    "        output_dim=30, input_length=CHAR_FEAT_SIZE))(title_input)  \n",
    "\n",
    "    title_char_dropout = keras.layers.Dropout(0.5)(title_char_emb)\n",
    "    title_char_conv1d = keras.layers.TimeDistributed(keras.layers.Conv1D(kernel_size=3, filters=32,\n",
    "        padding='same',activation='tanh', strides=1))(title_char_dropout)\n",
    "    title_char_maxpool = keras.layers.TimeDistributed(keras.layers.MaxPooling1D(CHAR_FEAT_SIZE))(title_char_conv1d)\n",
    "    title_char_feats = keras.layers.TimeDistributed(keras.layers.Flatten())(title_char_maxpool)\n",
    "    \n",
    "    # TEXT INPUT\n",
    "    text_input = keras.layers.Input(shape=(SENT_SIZE, CHAR_FEAT_SIZE))\n",
    "    text_char_emb = keras.layers.TimeDistributed(keras.layers.Embedding(input_dim=len(text_char2idx) + 1,\n",
    "        output_dim=30, input_length=CHAR_FEAT_SIZE))(text_input)  \n",
    "\n",
    "    text_char_dropout = keras.layers.Dropout(0.5)(text_char_emb)\n",
    "    text_char_conv1d = keras.layers.TimeDistributed(keras.layers.Conv1D(kernel_size=3, filters=32,\n",
    "        padding='same',activation='tanh', strides=1))(text_char_dropout)\n",
    "    text_char_maxpool = keras.layers.TimeDistributed(keras.layers.MaxPooling1D(CHAR_FEAT_SIZE))(text_char_conv1d)\n",
    "    text_char_feats = keras.layers.TimeDistributed(keras.layers.Flatten())(text_char_maxpool)\n",
    "    \n",
    "    all_feat = keras.layers.concatenate([title_char_feats, text_char_feats])\n",
    "\n",
    "    all_out = keras.layers.SpatialDropout1D(0.3)(all_feat)\n",
    "\n",
    "    bi_lstm = keras.layers.Bidirectional(keras.layers.LSTM(units=100,\n",
    "            return_sequences=False))(all_out)\n",
    "\n",
    "    out = keras.layers.Dense(1, activation=\"sigmoid\")(bi_lstm)\n",
    "\n",
    "    model = keras.models.Model([title_input, text_input], out)\n",
    "    model.compile(optimizer='adam', loss=keras.losses.binary_crossentropy, metrics=['acc'])\n",
    "\n",
    "    return model\n"
   ]
  },
  {
   "cell_type": "code",
   "execution_count": 12,
   "metadata": {},
   "outputs": [],
   "source": [
    "y = df['y'].values"
   ]
  },
  {
   "cell_type": "code",
   "execution_count": 13,
   "metadata": {},
   "outputs": [],
   "source": [
    "from sklearn.feature_extraction.text import TfidfVectorizer\n",
    "\n",
    "df['title_joined'] = df['title_clean'].apply(lambda x: ' '.join(x))\n",
    "df['text_joined'] = df['text_clean'].apply(lambda x: ' '.join(x))\n"
   ]
  },
  {
   "cell_type": "code",
   "execution_count": 14,
   "metadata": {},
   "outputs": [],
   "source": [
    "df['svm_input'] = df.apply(lambda r: r['title_joined'] + ' ' + r['text_joined'], axis=1)\n",
    "\n",
    "vectorizer = TfidfVectorizer(analyzer='char_wb', ngram_range=(2,2))\n",
    "SVM_input = vectorizer.fit_transform(df['svm_input'])\n"
   ]
  },
  {
   "cell_type": "code",
   "execution_count": 15,
   "metadata": {},
   "outputs": [
    {
     "data": {
      "text/plain": [
       "<19626x701 sparse matrix of type '<class 'numpy.float64'>'\n",
       "\twith 3911909 stored elements in Compressed Sparse Row format>"
      ]
     },
     "execution_count": 15,
     "metadata": {},
     "output_type": "execute_result"
    }
   ],
   "source": [
    "SVM_input"
   ]
  },
  {
   "cell_type": "code",
   "execution_count": 16,
   "metadata": {},
   "outputs": [],
   "source": [
    "from sklearn.svm import SVC"
   ]
  },
  {
   "cell_type": "code",
   "execution_count": 18,
   "metadata": {},
   "outputs": [
    {
     "data": {
      "text/plain": [
       "SVC(C=1.0, break_ties=False, cache_size=200, class_weight=None, coef0=0.0,\n",
       "    decision_function_shape='ovr', degree=3, gamma='auto', kernel='linear',\n",
       "    max_iter=-1, probability=False, random_state=None, shrinking=True,\n",
       "    tol=0.001, verbose=False)"
      ]
     },
     "execution_count": 18,
     "metadata": {},
     "output_type": "execute_result"
    }
   ],
   "source": [
    "svm = SVC(C=1.0, kernel='linear', degree=3, gamma='auto')\n",
    "svm.fit(SVM_input, y)"
   ]
  },
  {
   "cell_type": "code",
   "execution_count": 19,
   "metadata": {},
   "outputs": [],
   "source": [
    "y_hat = svm.predict(SVM_input)"
   ]
  },
  {
   "cell_type": "code",
   "execution_count": 22,
   "metadata": {},
   "outputs": [
    {
     "data": {
      "text/plain": [
       "{'0': {'precision': 0.8876954667509083,\n",
       "  'recall': 0.9999406915366823,\n",
       "  'f1-score': 0.9404808389579964,\n",
       "  'support': 16861},\n",
       " '1': {'precision': 0.9984202211690363,\n",
       "  'recall': 0.22857142857142856,\n",
       "  'f1-score': 0.37198351971748084,\n",
       "  'support': 2765},\n",
       " 'accuracy': 0.8912666870477938,\n",
       " 'macro avg': {'precision': 0.9430578439599723,\n",
       "  'recall': 0.6142560600540554,\n",
       "  'f1-score': 0.6562321793377386,\n",
       "  'support': 19626},\n",
       " 'weighted avg': {'precision': 0.9032948729450447,\n",
       "  'recall': 0.8912666870477938,\n",
       "  'f1-score': 0.8603883551253241,\n",
       "  'support': 19626}}"
      ]
     },
     "execution_count": 22,
     "metadata": {},
     "output_type": "execute_result"
    }
   ],
   "source": [
    "metrics.classification_report(y, y_hat, output_dict=True)"
   ]
  },
  {
   "cell_type": "code",
   "execution_count": 56,
   "metadata": {},
   "outputs": [],
   "source": [
    "title_model = title_only_model(title_char2idx)"
   ]
  },
  {
   "cell_type": "code",
   "execution_count": 18,
   "metadata": {},
   "outputs": [
    {
     "name": "stdout",
     "output_type": "stream",
     "text": [
      "Train on 17663 samples, validate on 1963 samples\n",
      "Epoch 1/10\n",
      "17663/17663 [==============================] - 9s 503us/sample - loss: 0.4094 - acc: 0.8576 - val_loss: 0.3936 - val_acc: 0.8630\n",
      "Epoch 2/10\n",
      "17663/17663 [==============================] - 6s 315us/sample - loss: 0.3952 - acc: 0.8607 - val_loss: 0.3977 - val_acc: 0.8630\n",
      "Epoch 3/10\n",
      "17663/17663 [==============================] - 6s 314us/sample - loss: 0.3895 - acc: 0.8613 - val_loss: 0.3897 - val_acc: 0.8645\n",
      "Epoch 4/10\n",
      "17663/17663 [==============================] - 6s 314us/sample - loss: 0.3885 - acc: 0.8621 - val_loss: 0.3875 - val_acc: 0.8635\n",
      "Epoch 5/10\n",
      "17663/17663 [==============================] - 6s 314us/sample - loss: 0.3858 - acc: 0.8621 - val_loss: 0.3948 - val_acc: 0.8625\n",
      "Epoch 6/10\n",
      "17663/17663 [==============================] - 6s 317us/sample - loss: 0.3847 - acc: 0.8626 - val_loss: 0.3958 - val_acc: 0.8645\n",
      "Epoch 7/10\n",
      "17663/17663 [==============================] - 6s 318us/sample - loss: 0.3824 - acc: 0.8627 - val_loss: 0.3800 - val_acc: 0.8650\n",
      "Epoch 8/10\n",
      "17663/17663 [==============================] - 6s 318us/sample - loss: 0.3815 - acc: 0.8625 - val_loss: 0.3820 - val_acc: 0.8650\n",
      "Epoch 9/10\n",
      "17663/17663 [==============================] - 6s 318us/sample - loss: 0.3813 - acc: 0.8624 - val_loss: 0.3919 - val_acc: 0.8625\n",
      "Epoch 10/10\n",
      "17663/17663 [==============================] - 6s 318us/sample - loss: 0.3794 - acc: 0.8628 - val_loss: 0.4043 - val_acc: 0.8543\n"
     ]
    },
    {
     "data": {
      "text/plain": [
       "<tensorflow.python.keras.callbacks.History at 0x1f984d8ec48>"
      ]
     },
     "execution_count": 18,
     "metadata": {},
     "output_type": "execute_result"
    }
   ],
   "source": [
    "title_model.fit(x=X_title, y=y, batch_size=32, epochs=10, validation_split=.1)"
   ]
  },
  {
   "cell_type": "code",
   "execution_count": 23,
   "metadata": {},
   "outputs": [],
   "source": [
    "text_model = title_and_text_model(title_char2idx, text_char2idx)"
   ]
  },
  {
   "cell_type": "code",
   "execution_count": 24,
   "metadata": {},
   "outputs": [
    {
     "name": "stdout",
     "output_type": "stream",
     "text": [
      "Model: \"model\"\n",
      "__________________________________________________________________________________________________\n",
      "Layer (type)                    Output Shape         Param #     Connected to                     \n",
      "==================================================================================================\n",
      "input_1 (InputLayer)            [(None, 100, 10)]    0                                            \n",
      "__________________________________________________________________________________________________\n",
      "input_2 (InputLayer)            [(None, 100, 10)]    0                                            \n",
      "__________________________________________________________________________________________________\n",
      "time_distributed (TimeDistribut (None, 100, 10, 30)  810         input_1[0][0]                    \n",
      "__________________________________________________________________________________________________\n",
      "time_distributed_4 (TimeDistrib (None, 100, 10, 30)  810         input_2[0][0]                    \n",
      "__________________________________________________________________________________________________\n",
      "dropout (Dropout)               (None, 100, 10, 30)  0           time_distributed[0][0]           \n",
      "__________________________________________________________________________________________________\n",
      "dropout_1 (Dropout)             (None, 100, 10, 30)  0           time_distributed_4[0][0]         \n",
      "__________________________________________________________________________________________________\n",
      "time_distributed_1 (TimeDistrib (None, 100, 10, 32)  2912        dropout[0][0]                    \n",
      "__________________________________________________________________________________________________\n",
      "time_distributed_5 (TimeDistrib (None, 100, 10, 32)  2912        dropout_1[0][0]                  \n",
      "__________________________________________________________________________________________________\n",
      "time_distributed_2 (TimeDistrib (None, 100, 1, 32)   0           time_distributed_1[0][0]         \n",
      "__________________________________________________________________________________________________\n",
      "time_distributed_6 (TimeDistrib (None, 100, 1, 32)   0           time_distributed_5[0][0]         \n",
      "__________________________________________________________________________________________________\n",
      "time_distributed_3 (TimeDistrib (None, 100, 32)      0           time_distributed_2[0][0]         \n",
      "__________________________________________________________________________________________________\n",
      "time_distributed_7 (TimeDistrib (None, 100, 32)      0           time_distributed_6[0][0]         \n",
      "__________________________________________________________________________________________________\n",
      "concatenate (Concatenate)       (None, 100, 64)      0           time_distributed_3[0][0]         \n",
      "                                                                 time_distributed_7[0][0]         \n",
      "__________________________________________________________________________________________________\n",
      "spatial_dropout1d (SpatialDropo (None, 100, 64)      0           concatenate[0][0]                \n",
      "__________________________________________________________________________________________________\n",
      "bidirectional (Bidirectional)   (None, 200)          132000      spatial_dropout1d[0][0]          \n",
      "__________________________________________________________________________________________________\n",
      "dense (Dense)                   (None, 1)            201         bidirectional[0][0]              \n",
      "==================================================================================================\n",
      "Total params: 139,645\n",
      "Trainable params: 139,645\n",
      "Non-trainable params: 0\n",
      "__________________________________________________________________________________________________\n"
     ]
    }
   ],
   "source": [
    "text_model.summary()"
   ]
  },
  {
   "cell_type": "code",
   "execution_count": 29,
   "metadata": {},
   "outputs": [
    {
     "name": "stdout",
     "output_type": "stream",
     "text": [
      "Train on 15700 samples, validate on 3926 samples\n",
      "Epoch 1/3\n",
      "15700/15700 [==============================] - 60s 4ms/sample - loss: 0.3704 - acc: 0.8771 - val_loss: 0.3509 - val_acc: 0.8821\n",
      "Epoch 2/3\n",
      "15700/15700 [==============================] - 57s 4ms/sample - loss: 0.3370 - acc: 0.8889 - val_loss: 0.3470 - val_acc: 0.8821\n",
      "Epoch 3/3\n",
      "15700/15700 [==============================] - 54s 3ms/sample - loss: 0.3280 - acc: 0.8900 - val_loss: 0.3386 - val_acc: 0.8821\n"
     ]
    }
   ],
   "source": [
    "hist = text_model.fit(x=[X_title, X_text], y=y, batch_size=32, epochs=3, validation_split=.2)"
   ]
  },
  {
   "cell_type": "code",
   "execution_count": 43,
   "metadata": {},
   "outputs": [
    {
     "data": {
      "text/plain": [
       "<matplotlib.legend.Legend at 0x28ee4f50cc8>"
      ]
     },
     "execution_count": 43,
     "metadata": {},
     "output_type": "execute_result"
    },
    {
     "data": {
      "image/png": "[encoded data removed]",
      "text/plain": [
       "<Figure size 432x288 with 1 Axes>"
      ]
     },
     "metadata": {
      "needs_background": "light"
     },
     "output_type": "display_data"
    }
   ],
   "source": [
    "plt.plot(hist.history['loss'], label='loss')\n",
    "plt.plot(hist.history['val_loss'], label='val loss')\n",
    "plt.title('Model training loss')\n",
    "plt.legend()"
   ]
  },
  {
   "cell_type": "code",
   "execution_count": 44,
   "metadata": {},
   "outputs": [
    {
     "data": {
      "text/plain": [
       "<matplotlib.legend.Legend at 0x28ee4fcb188>"
      ]
     },
     "execution_count": 44,
     "metadata": {},
     "output_type": "execute_result"
    },
    {
     "data": {
      "image/png": "[encoded data removed]",
      "text/plain": [
       "<Figure size 432x288 with 1 Axes>"
      ]
     },
     "metadata": {
      "needs_background": "light"
     },
     "output_type": "display_data"
    }
   ],
   "source": [
    "plt.plot(hist.history['acc'], label='acc')\n",
    "plt.plot(hist.history['val_acc'], label='val acc')\n",
    "plt.title('Model training acc')\n",
    "plt.legend()"
   ]
  },
  {
   "cell_type": "code",
   "execution_count": 84,
   "metadata": {},
   "outputs": [],
   "source": [
    "import pickle"
   ]
  },
  {
   "cell_type": "code",
   "execution_count": 85,
   "metadata": {},
   "outputs": [],
   "source": [
    "with open('char2idxs.pkl', 'wb') as f:\n",
    "    pickle.dump({'text_char2idx' : text_char2idx,\n",
    "        'title_char2idx' : title_char2idx,\n",
    "    }, f)"
   ]
  },
  {
   "cell_type": "code",
   "execution_count": 86,
   "metadata": {},
   "outputs": [],
   "source": [
    "text_model.save_weights('../model.h5')"
   ]
  },
  {
   "cell_type": "code",
   "execution_count": 50,
   "metadata": {},
   "outputs": [],
   "source": [
    "y_hat = text_model.predict([X_title, X_text])"
   ]
  },
  {
   "cell_type": "code",
   "execution_count": 56,
   "metadata": {},
   "outputs": [],
   "source": [
    "y_hat = np.round(y_hat).astype(int).flatten()"
   ]
  },
  {
   "cell_type": "code",
   "execution_count": 21,
   "metadata": {},
   "outputs": [],
   "source": [
    "import sklearn.metrics as metrics"
   ]
  },
  {
   "cell_type": "code",
   "execution_count": 62,
   "metadata": {},
   "outputs": [],
   "source": [
    "f1 = metrics.f1_score(y, y_hat)"
   ]
  },
  {
   "cell_type": "code",
   "execution_count": 63,
   "metadata": {},
   "outputs": [
    {
     "data": {
      "text/plain": [
       "0.34538392590379446"
      ]
     },
     "execution_count": 63,
     "metadata": {},
     "output_type": "execute_result"
    }
   ],
   "source": [
    "f1"
   ]
  },
  {
   "cell_type": "code",
   "execution_count": 70,
   "metadata": {},
   "outputs": [
    {
     "data": {
      "text/plain": [
       "{'0': {'precision': 0.8851606805293005,\n",
       "  'recall': 0.9997627661467291,\n",
       "  'f1-score': 0.9389778582370143,\n",
       "  'support': 16861},\n",
       " '1': {'precision': 0.993127147766323,\n",
       "  'recall': 0.20904159132007233,\n",
       "  'f1-score': 0.34538392590379446,\n",
       "  'support': 2765},\n",
       " 'accuracy': 0.8883623764394171,\n",
       " 'macro avg': {'precision': 0.9391439141478117,\n",
       "  'recall': 0.6044021787334007,\n",
       "  'f1-score': 0.6421808920704044,\n",
       "  'support': 19626},\n",
       " 'weighted avg': {'precision': 0.9003714867002149,\n",
       "  'recall': 0.8883623764394171,\n",
       "  'f1-score': 0.8553496495902522,\n",
       "  'support': 19626}}"
      ]
     },
     "execution_count": 70,
     "metadata": {},
     "output_type": "execute_result"
    }
   ],
   "source": [
    "metrics.classification_report(y, y_hat, output_dict=True)"
   ]
  },
  {
   "cell_type": "code",
   "execution_count": 66,
   "metadata": {},
   "outputs": [
    {
     "data": {
      "text/plain": [
       "'              precision    recall  f1-score   support\\n\\n           0       0.89      1.00      0.94     16861\\n           1       0.99      0.21      0.35      2765\\n\\n    accuracy                           0.89     19626\\n   macro avg       0.94      0.60      0.64     19626\\nweighted avg       0.90      0.89      0.86     19626\\n'"
      ]
     },
     "execution_count": 66,
     "metadata": {},
     "output_type": "execute_result"
    }
   ],
   "source": [
    "all_"
   ]
  },
  {
   "cell_type": "code",
   "execution_count": 67,
   "metadata": {},
   "outputs": [
    {
     "data": {
      "text/plain": [
       "str"
      ]
     },
     "execution_count": 67,
     "metadata": {},
     "output_type": "execute_result"
    }
   ],
   "source": [
    "type(all_)"
   ]
  },
  {
   "cell_type": "code",
   "execution_count": null,
   "metadata": {},
   "outputs": [],
   "source": []
  }
 ],
 "metadata": {
  "kernelspec": {
   "display_name": "tensorflow20",
   "language": "python",
   "name": "tensorflow20"
  },
  "language_info": {
   "codemirror_mode": {
    "name": "ipython",
    "version": 3
   },
   "file_extension": ".py",
   "mimetype": "text/x-python",
   "name": "python",
   "nbconvert_exporter": "python",
   "pygments_lexer": "ipython3",
   "version": "3.7.6"
  }
 },
 "nbformat": 4,
 "nbformat_minor": 4
}
